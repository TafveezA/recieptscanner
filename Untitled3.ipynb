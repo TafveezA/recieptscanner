{
 "cells": [
  {
   "cell_type": "code",
   "execution_count": null,
   "id": "446cc41c-30f5-4e5a-ab79-dae0f8b906dd",
   "metadata": {},
   "outputs": [],
   "source": [
    "import pydotplus\n",
    "from IPython.display import display, Image\n",
    "import matplotlib.pyplot as plt\n",
    "import pytesseract\n",
    "from gtts import gTTS\n",
    "import IPython.display as ipd\n",
    "from requests import get  # to make GET request"
   ]
  },
  {
   "cell_type": "code",
   "execution_count": null,
   "id": "c6203f69-a6e6-4f74-b3fc-cf365dc10fb6",
   "metadata": {},
   "outputs": [],
   "source": [
    "myplan=\"\"\"digraph { \n",
    "            Importing_the_necessary_Libraries -> \n",
    "            dowenload_arabic_traineddata -> \n",
    "            chage_traineddata_path_from_environment_variables_TESSDATA_PREFIX -> \n",
    "            Read_image_by_cv2 -> \n",
    "            Generate_OCR_Text_by_pytesseract -> \n",
    "            Read_OCR_Text_by_gTTS \n",
    "        }\"\"\"\n",
    "mygraph=pydotplus.graph_from_dot_data(myplan)\n",
    "# mygraph.write_png(\"myplan.png\")\n",
    "# display(Image(filename='./myplan.png'))"
   ]
  },
  {
   "cell_type": "code",
   "execution_count": null,
   "id": "5a5789af-93c8-40b9-a4bf-9042c35dfb37",
   "metadata": {},
   "outputs": [],
   "source": [
    "def download(url, file_name):\n",
    "    # open in binary mode\n",
    "    with open(file_name, \"wb\") as file:\n",
    "        # get request\n",
    "        response = get(url)\n",
    "        # write to file\n",
    "        file.write(response.content)\n",
    "\n",
    "download(\"https://github.com/tesseract-ocr/tessdata/raw/master/ara.traineddata\",\"ara.traineddata\")"
   ]
  },
  {
   "cell_type": "code",
   "execution_count": 6,
   "id": "5ee02a1f-86cf-4962-9d37-2df0254f889f",
   "metadata": {},
   "outputs": [],
   "source": []
  },
  {
   "cell_type": "code",
   "execution_count": null,
   "id": "42bc0c01-3386-404a-8ca6-1ba4a14493a6",
   "metadata": {},
   "outputs": [],
   "source": [
    "# 4.jpeg - 1.png\n",
    "import cv2\n",
    "\n",
    "filename=\"arabic-text.jpg\" \n",
    "img_cv = cv2.imread(filename)\n",
    "plt.figure(figsize=(20, 20))\n",
    "plt.imshow(img_cv,cmap = 'gray')\n",
    "plt.title('template'), plt.xticks([]), plt.yticks([])\n",
    "\n",
    "plt.show()"
   ]
  },
  {
   "cell_type": "code",
   "execution_count": 3,
   "id": "39961365-4088-4bcd-b012-7fe578fcfb0d",
   "metadata": {},
   "outputs": [
    {
     "ename": "NameError",
     "evalue": "name 'pytesseract' is not defined",
     "output_type": "error",
     "traceback": [
      "\u001b[1;31m---------------------------------------------------------------------------\u001b[0m",
      "\u001b[1;31mNameError\u001b[0m                                 Traceback (most recent call last)",
      "Cell \u001b[1;32mIn[3], line 3\u001b[0m\n\u001b[0;32m      1\u001b[0m \u001b[38;5;28;01mimport\u001b[39;00m \u001b[38;5;21;01mos\u001b[39;00m\n\u001b[0;32m      2\u001b[0m os\u001b[38;5;241m.\u001b[39menviron[\u001b[38;5;124m'\u001b[39m\u001b[38;5;124mTESSDATA_PREFIX\u001b[39m\u001b[38;5;124m'\u001b[39m] \u001b[38;5;241m=\u001b[39m \u001b[38;5;124m\"\u001b[39m\u001b[38;5;124m.\u001b[39m\u001b[38;5;124m\"\u001b[39m\n\u001b[1;32m----> 3\u001b[0m arabic_text\u001b[38;5;241m=\u001b[39m\u001b[43mpytesseract\u001b[49m\u001b[38;5;241m.\u001b[39mimage_to_string(img_cv , lang\u001b[38;5;241m=\u001b[39m\u001b[38;5;124m'\u001b[39m\u001b[38;5;124mara\u001b[39m\u001b[38;5;124m'\u001b[39m,config\u001b[38;5;241m=\u001b[39m \u001b[38;5;124m\"\u001b[39m\u001b[38;5;124m.\u001b[39m\u001b[38;5;124m\"\u001b[39m)\n\u001b[0;32m      5\u001b[0m \u001b[38;5;28mprint\u001b[39m(arabic_text)\n\u001b[0;32m      6\u001b[0m \u001b[38;5;28mprint\u001b[39m(\u001b[38;5;124m\"\u001b[39m\u001b[38;5;124mEXECUTION DONE\u001b[39m\u001b[38;5;124m\"\u001b[39m)\n",
      "\u001b[1;31mNameError\u001b[0m: name 'pytesseract' is not defined"
     ]
    }
   ],
   "source": [
    "import os\n",
    "os.environ['TESSDATA_PREFIX'] = \".\"\n",
    "arabic_text=pytesseract.image_to_string(img_cv , lang='ara',config= \".\")\n",
    "\n",
    "print(arabic_text)\n",
    "print(\"EXECUTION DONE\")"
   ]
  },
  {
   "cell_type": "code",
   "execution_count": null,
   "id": "4a2c6209-1792-4af4-ba8a-207bdd5c8ee4",
   "metadata": {},
   "outputs": [],
   "source": []
  },
  {
   "cell_type": "code",
   "execution_count": null,
   "id": "038cda7e-6440-4e5f-8233-fc3e3c4fc942",
   "metadata": {},
   "outputs": [],
   "source": []
  },
  {
   "cell_type": "code",
   "execution_count": null,
   "id": "632ea774-fb26-48c3-9e4a-d23f3d232925",
   "metadata": {},
   "outputs": [],
   "source": []
  }
 ],
 "metadata": {
  "kernelspec": {
   "display_name": "Python 3 (ipykernel)",
   "language": "python",
   "name": "python3"
  },
  "language_info": {
   "codemirror_mode": {
    "name": "ipython",
    "version": 3
   },
   "file_extension": ".py",
   "mimetype": "text/x-python",
   "name": "python",
   "nbconvert_exporter": "python",
   "pygments_lexer": "ipython3",
   "version": "3.12.0"
  }
 },
 "nbformat": 4,
 "nbformat_minor": 5
}
